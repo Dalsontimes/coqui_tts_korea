{
 "cells": [
  {
   "cell_type": "code",
   "execution_count": null,
   "id": "87f5579b-56f4-4ddc-9bc5-f073697b3628",
   "metadata": {},
   "outputs": [],
   "source": [
    "#vocoder\n",
    "\n",
    "import os\n",
    "\n",
    "from TTS.trainer import Trainer, TrainingArgs\n",
    "from TTS.utils.audio import AudioProcessor\n",
    "from TTS.vocoder.configs import HifiganConfig, MultibandMelganConfig\n",
    "from TTS.vocoder.datasets.preprocess import load_wav_data\n",
    "from TTS.vocoder.models.gan import GAN\n",
    "\n",
    "\n",
    "\n",
    "output_path =os.path.join(\"./model/vocoder/mbmelgan/\")\n",
    "\n",
    "config = MultibandMelganConfig(\n",
    "    batch_size=128,\n",
    "    eval_batch_size=16,\n",
    "    num_loader_workers=10,\n",
    "    num_eval_loader_workers=10,\n",
    "    run_eval=True,\n",
    "    test_delay_epochs=5,\n",
    "    epochs=1000,\n",
    "    seq_len=8192,\n",
    "    pad_short=2000,\n",
    "    use_noise_augment=True,\n",
    "    eval_split_size=10,\n",
    "    print_step=25,\n",
    "    print_eval=False,\n",
    "    mixed_precision=False,\n",
    "    lr_gen=1e-4,\n",
    "    lr_disc=1e-4,\n",
    "    data_path=\"\",\n",
    "    output_path=output_path,\n",
    ")\n",
    "\n",
    "\n",
    "# init audio processor\n",
    "ap = AudioProcessor(**config.audio.to_dict())\n",
    "\n",
    "\n",
    "# load training samples\n",
    "eval_samples1, train_samples1 = load_wav_data(\"./resample1/kss/wavs\", config.eval_split_size)\n",
    "eval_samples2, train_samples2 = load_wav_data(\"./resample1/pansori_tedxkr/wavs\", config.eval_split_size)\n",
    "eval_samples3, train_samples3 = load_wav_data(\"./resample1/zeroth_korean/wavs\", config.eval_split_size)\n",
    "eval_samples, train_samples = [eval_samples1+eval_samples2+eval_samples3, train_samples1+train_samples2+train_samples3]\n",
    "\n",
    "\n"
   ]
  },
  {
   "cell_type": "code",
   "execution_count": null,
   "id": "8710bba6-271a-4670-8484-7e934f35a47a",
   "metadata": {},
   "outputs": [],
   "source": [
    "\n",
    "\n",
    "# init model\n",
    "model = GAN(config)\n",
    "\n",
    "# init the trainer and 🚀\n",
    "trainer = Trainer(\n",
    "    TrainingArgs(),\n",
    "    config,\n",
    "    output_path,\n",
    "    model=model,\n",
    "    train_samples=train_samples,\n",
    "    eval_samples=eval_samples,\n",
    "    training_assets={\"audio_processor\": ap},\n",
    ")\n",
    "trainer.fit()"
   ]
  },
  {
   "cell_type": "code",
   "execution_count": null,
   "id": "f427d13a-1e2a-4ab7-b146-951eb488b0ce",
   "metadata": {},
   "outputs": [],
   "source": []
  }
 ],
 "metadata": {
  "kernelspec": {
   "display_name": "Python [conda env:tf2]",
   "language": "python",
   "name": "conda-env-tf2-py"
  },
  "language_info": {
   "codemirror_mode": {
    "name": "ipython",
    "version": 3
   },
   "file_extension": ".py",
   "mimetype": "text/x-python",
   "name": "python",
   "nbconvert_exporter": "python",
   "pygments_lexer": "ipython3",
   "version": "3.7.11"
  }
 },
 "nbformat": 4,
 "nbformat_minor": 5
}
